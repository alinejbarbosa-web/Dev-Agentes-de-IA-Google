{
  "nbformat": 4,
  "nbformat_minor": 0,
  "metadata": {
    "colab": {
      "provenance": [],
      "include_colab_link": true
    },
    "kernelspec": {
      "name": "python3",
      "display_name": "Python 3"
    },
    "language_info": {
      "name": "python"
    }
  },
  "cells": [
    {
      "cell_type": "markdown",
      "metadata": {
        "id": "view-in-github",
        "colab_type": "text"
      },
      "source": [
        "<a href=\"https://colab.research.google.com/github/alinejbarbosa-web/Dev-Agentes-de-IA-Google/blob/main/Aula_0_Dev_Agentes_de_IA_Google_Masterclass_Python_Alura.ipynb\" target=\"_parent\"><img src=\"https://colab.research.google.com/assets/colab-badge.svg\" alt=\"Open In Colab\"/></a>"
      ]
    },
    {
      "cell_type": "code",
      "execution_count": 1,
      "metadata": {
        "colab": {
          "base_uri": "https://localhost:8080/",
          "height": 35
        },
        "id": "ZDOEq5ARR-5F",
        "outputId": "d19d8058-9e3b-49e5-81a4-6a5074979340"
      },
      "outputs": [
        {
          "output_type": "execute_result",
          "data": {
            "text/plain": [
              "'guilherme'"
            ],
            "application/vnd.google.colaboratory.intrinsic+json": {
              "type": "string"
            }
          },
          "metadata": {},
          "execution_count": 1
        }
      ],
      "source": [
        "\"guilherme\""
      ]
    },
    {
      "cell_type": "code",
      "source": [
        "'guilherme'"
      ],
      "metadata": {
        "colab": {
          "base_uri": "https://localhost:8080/",
          "height": 35
        },
        "id": "a20LZPH_S_Id",
        "outputId": "55f68e5a-4704-4e54-cca9-90dfcc39d5d2"
      },
      "execution_count": 2,
      "outputs": [
        {
          "output_type": "execute_result",
          "data": {
            "text/plain": [
              "'guilherme'"
            ],
            "application/vnd.google.colaboratory.intrinsic+json": {
              "type": "string"
            }
          },
          "metadata": {},
          "execution_count": 2
        }
      ]
    },
    {
      "cell_type": "code",
      "source": [
        "saudacao = 'Olá, Mundo!'"
      ],
      "metadata": {
        "id": "hI1Z97myTJED"
      },
      "execution_count": 3,
      "outputs": []
    },
    {
      "cell_type": "code",
      "source": [
        "saudacao"
      ],
      "metadata": {
        "colab": {
          "base_uri": "https://localhost:8080/",
          "height": 35
        },
        "id": "99b2nz-fTeJD",
        "outputId": "298463c9-5fcc-4bb5-8967-9351416f00d5"
      },
      "execution_count": 4,
      "outputs": [
        {
          "output_type": "execute_result",
          "data": {
            "text/plain": [
              "'Olá, Mundo!'"
            ],
            "application/vnd.google.colaboratory.intrinsic+json": {
              "type": "string"
            }
          },
          "metadata": {},
          "execution_count": 4
        }
      ]
    },
    {
      "cell_type": "code",
      "source": [
        "resposta = 'Não sei.'\n",
        "resposta"
      ],
      "metadata": {
        "colab": {
          "base_uri": "https://localhost:8080/",
          "height": 35
        },
        "id": "oj6ujTf_TgPd",
        "outputId": "81ab5c87-84f1-4964-85cc-c5b3d633aa6b"
      },
      "execution_count": 5,
      "outputs": [
        {
          "output_type": "execute_result",
          "data": {
            "text/plain": [
              "'Não sei.'"
            ],
            "application/vnd.google.colaboratory.intrinsic+json": {
              "type": "string"
            }
          },
          "metadata": {},
          "execution_count": 5
        }
      ]
    },
    {
      "cell_type": "code",
      "source": [
        "idade = 34\n",
        "idade"
      ],
      "metadata": {
        "colab": {
          "base_uri": "https://localhost:8080/"
        },
        "id": "SA7r7NTdT4GL",
        "outputId": "101ae7da-60d4-4b6c-e588-552a0d636063"
      },
      "execution_count": 6,
      "outputs": [
        {
          "output_type": "execute_result",
          "data": {
            "text/plain": [
              "34"
            ]
          },
          "metadata": {},
          "execution_count": 6
        }
      ]
    },
    {
      "cell_type": "code",
      "source": [
        "gasolina = 6.55\n",
        "gasolina"
      ],
      "metadata": {
        "colab": {
          "base_uri": "https://localhost:8080/"
        },
        "id": "opJxrleKUSRO",
        "outputId": "68306b48-174e-4393-ac16-4013a2e49d90"
      },
      "execution_count": 7,
      "outputs": [
        {
          "output_type": "execute_result",
          "data": {
            "text/plain": [
              "6.55"
            ]
          },
          "metadata": {},
          "execution_count": 7
        }
      ]
    },
    {
      "cell_type": "code",
      "source": [
        "altura = 1.75\n",
        "altura"
      ],
      "metadata": {
        "colab": {
          "base_uri": "https://localhost:8080/"
        },
        "id": "GOnUmkjpUg0Z",
        "outputId": "19ed0ff2-421c-400a-ad51-b8dacf97ad9c"
      },
      "execution_count": 8,
      "outputs": [
        {
          "output_type": "execute_result",
          "data": {
            "text/plain": [
              "1.75"
            ]
          },
          "metadata": {},
          "execution_count": 8
        }
      ]
    },
    {
      "cell_type": "code",
      "source": [
        "# verdadeiro\n",
        "pode_dirigir = True\n",
        "pode_dirigir"
      ],
      "metadata": {
        "colab": {
          "base_uri": "https://localhost:8080/"
        },
        "id": "aA8OnIpvUjbe",
        "outputId": "b739789c-c0cd-4e17-ecea-22d73bc113d4"
      },
      "execution_count": 9,
      "outputs": [
        {
          "output_type": "execute_result",
          "data": {
            "text/plain": [
              "True"
            ]
          },
          "metadata": {},
          "execution_count": 9
        }
      ]
    },
    {
      "cell_type": "code",
      "source": [
        "# falso\n",
        "nao_pode_dirigir = False\n",
        "nao_pode_dirigir"
      ],
      "metadata": {
        "colab": {
          "base_uri": "https://localhost:8080/"
        },
        "id": "F37Fbrm6Uv37",
        "outputId": "82acd289-1712-4f83-b823-ac8e2cf65a61"
      },
      "execution_count": 10,
      "outputs": [
        {
          "output_type": "execute_result",
          "data": {
            "text/plain": [
              "False"
            ]
          },
          "metadata": {},
          "execution_count": 10
        }
      ]
    },
    {
      "cell_type": "code",
      "source": [
        "# lista\n",
        "citacoes = ['frase 1', 'frase 2', 'frase 3']\n",
        "citacoes"
      ],
      "metadata": {
        "colab": {
          "base_uri": "https://localhost:8080/"
        },
        "id": "t5aEIODMU1KY",
        "outputId": "01680769-c11f-4e4d-8bd6-cb431d678072"
      },
      "execution_count": 11,
      "outputs": [
        {
          "output_type": "execute_result",
          "data": {
            "text/plain": [
              "['frase 1', 'frase 2', 'frase 3']"
            ]
          },
          "metadata": {},
          "execution_count": 11
        }
      ]
    },
    {
      "cell_type": "code",
      "source": [
        "#          0.  1.   2.\n",
        "valores = [42, 100, 1592]\n",
        "valores"
      ],
      "metadata": {
        "colab": {
          "base_uri": "https://localhost:8080/"
        },
        "id": "98HEsRFrVT1D",
        "outputId": "bce9fa29-11b3-418d-b958-ffca17d64be4"
      },
      "execution_count": 12,
      "outputs": [
        {
          "output_type": "execute_result",
          "data": {
            "text/plain": [
              "[42, 100, 1592]"
            ]
          },
          "metadata": {},
          "execution_count": 12
        }
      ]
    },
    {
      "cell_type": "code",
      "source": [
        "valores[0]"
      ],
      "metadata": {
        "colab": {
          "base_uri": "https://localhost:8080/"
        },
        "id": "yqnJn4mvVawu",
        "outputId": "c30c3e40-7853-4052-fb98-1954f12e6e1a"
      },
      "execution_count": 13,
      "outputs": [
        {
          "output_type": "execute_result",
          "data": {
            "text/plain": [
              "42"
            ]
          },
          "metadata": {},
          "execution_count": 13
        }
      ]
    },
    {
      "cell_type": "code",
      "source": [
        "resultado_da_soma = valores[0] + valores[1]\n",
        "resultado_da_soma"
      ],
      "metadata": {
        "colab": {
          "base_uri": "https://localhost:8080/"
        },
        "id": "UDLEn92oVeh7",
        "outputId": "a8166d2c-c3c6-4044-c445-ffb8085aa4ad"
      },
      "execution_count": 15,
      "outputs": [
        {
          "output_type": "execute_result",
          "data": {
            "text/plain": [
              "142"
            ]
          },
          "metadata": {},
          "execution_count": 15
        }
      ]
    },
    {
      "cell_type": "code",
      "source": [
        "bandas_favoritas = {\n",
        "    'banda_favorita': 'Oasis',\n",
        "    'banda_legalzinha': 'Guilherme Band'\n",
        "}\n",
        "bandas_favoritas"
      ],
      "metadata": {
        "colab": {
          "base_uri": "https://localhost:8080/"
        },
        "id": "OGBgLQFQVvv5",
        "outputId": "6a00c326-d39f-4884-c62e-c8b8dc72f3fa"
      },
      "execution_count": 14,
      "outputs": [
        {
          "output_type": "execute_result",
          "data": {
            "text/plain": [
              "{'banda_favorita': 'Oasis', 'banda_legalzinha': 'Guilherme Band'}"
            ]
          },
          "metadata": {},
          "execution_count": 14
        }
      ]
    },
    {
      "cell_type": "code",
      "source": [
        "bandas_favoritas['banda_legalzinha']"
      ],
      "metadata": {
        "colab": {
          "base_uri": "https://localhost:8080/",
          "height": 35
        },
        "id": "zAjzQ-YhWdcE",
        "outputId": "9038cf96-033a-4d83-9a83-9e29e67915cb"
      },
      "execution_count": 16,
      "outputs": [
        {
          "output_type": "execute_result",
          "data": {
            "text/plain": [
              "'Guilherme Band'"
            ],
            "application/vnd.google.colaboratory.intrinsic+json": {
              "type": "string"
            }
          },
          "metadata": {},
          "execution_count": 16
        }
      ]
    },
    {
      "cell_type": "code",
      "source": [
        "texto_sujo = \"   Bem vindo a imersão                \"\n",
        "texto_limpo = texto_sujo.strip()\n",
        "texto_limpo"
      ],
      "metadata": {
        "colab": {
          "base_uri": "https://localhost:8080/",
          "height": 35
        },
        "id": "YRRBs36_WhtN",
        "outputId": "e8d0fcb1-86a8-438b-94a6-712c01057ce5"
      },
      "execution_count": 17,
      "outputs": [
        {
          "output_type": "execute_result",
          "data": {
            "text/plain": [
              "'Bem vindo a imersão'"
            ],
            "application/vnd.google.colaboratory.intrinsic+json": {
              "type": "string"
            }
          },
          "metadata": {},
          "execution_count": 17
        }
      ]
    },
    {
      "cell_type": "code",
      "source": [
        "idade = 20\n",
        "\n",
        "if idade >= 18:\n",
        "  print('Pode dirigir')\n",
        "  print('Pode estudar na Fiap')\n",
        "else:\n",
        "  print('Não pode dirigir')\n",
        "  print('Pode estudar na Alura')"
      ],
      "metadata": {
        "colab": {
          "base_uri": "https://localhost:8080/"
        },
        "id": "2TMuyNzHXOK1",
        "outputId": "28dff673-2a67-4499-86b4-73b81bffb9c1"
      },
      "execution_count": 18,
      "outputs": [
        {
          "output_type": "stream",
          "name": "stdout",
          "text": [
            "Pode dirigir\n",
            "Pode estudar na Fiap\n"
          ]
        }
      ]
    },
    {
      "cell_type": "code",
      "source": [
        "1 == 5"
      ],
      "metadata": {
        "colab": {
          "base_uri": "https://localhost:8080/"
        },
        "id": "pNUOy65sYE7g",
        "outputId": "d0af9477-a5ba-4dc1-a8d0-1c0d76e45682"
      },
      "execution_count": 19,
      "outputs": [
        {
          "output_type": "execute_result",
          "data": {
            "text/plain": [
              "False"
            ]
          },
          "metadata": {},
          "execution_count": 19
        }
      ]
    },
    {
      "cell_type": "code",
      "source": [
        "def saudar():\n",
        "  print('Olá, Mundo!')\n",
        "  print('Estou aprendendo Python')\n",
        "\n",
        "print('Estou fora da função!')\n",
        "saudar()"
      ],
      "metadata": {
        "colab": {
          "base_uri": "https://localhost:8080/"
        },
        "id": "nuG9Sqe4YwnV",
        "outputId": "efe27b55-126c-4715-9e55-216a0fed19f3"
      },
      "execution_count": 20,
      "outputs": [
        {
          "output_type": "stream",
          "name": "stdout",
          "text": [
            "Estou fora da função!\n",
            "Olá, Mundo!\n",
            "Estou aprendendo Python\n"
          ]
        }
      ]
    },
    {
      "cell_type": "code",
      "source": [
        "def saudar():\n",
        "  nome = input('Qual o seu nome? ')\n",
        "  print(f'Olá, {nome}!')\n",
        "\n",
        "saudar()"
      ],
      "metadata": {
        "colab": {
          "base_uri": "https://localhost:8080/"
        },
        "id": "vFXRHxwCZ3lU",
        "outputId": "b8b4ac0f-a433-4e55-c4bc-59d53793a0b6"
      },
      "execution_count": 21,
      "outputs": [
        {
          "output_type": "stream",
          "name": "stdout",
          "text": [
            "Qual o seu nome? Aline\n",
            "Olá, Aline!\n"
          ]
        }
      ]
    },
    {
      "cell_type": "code",
      "source": [
        "def saudar(nome):\n",
        "  print(f'Olá, {nome}!')\n",
        "\n",
        "saudar('Guilherme')\n",
        "saudar('Ana')\n",
        "saudar('José')"
      ],
      "metadata": {
        "colab": {
          "base_uri": "https://localhost:8080/"
        },
        "id": "YtrQ3s6fa4s6",
        "outputId": "ca7be4e7-8942-4f0a-e547-5acf33765366"
      },
      "execution_count": 22,
      "outputs": [
        {
          "output_type": "stream",
          "name": "stdout",
          "text": [
            "Olá, Guilherme!\n",
            "Olá, Ana!\n",
            "Olá, José!\n"
          ]
        }
      ]
    },
    {
      "cell_type": "code",
      "source": [
        "def saudar(nome):\n",
        "  return f'Olá, {nome}!'\n",
        "\n",
        "mensagem_1 = saudar('Guilherme')\n",
        "mensagem_2 = saudar('Ana')\n",
        "mensagem_3 = saudar('José')"
      ],
      "metadata": {
        "id": "Gx3yPjkJbNne"
      },
      "execution_count": 23,
      "outputs": []
    },
    {
      "cell_type": "code",
      "source": [
        "print(mensagem_1)\n",
        "print(mensagem_2)\n",
        "print(mensagem_3)"
      ],
      "metadata": {
        "colab": {
          "base_uri": "https://localhost:8080/"
        },
        "id": "V9YVS0ocbXhq",
        "outputId": "f7827bc9-d6c5-4b68-a208-2b264d7ebe8f"
      },
      "execution_count": 24,
      "outputs": [
        {
          "output_type": "stream",
          "name": "stdout",
          "text": [
            "Olá, Guilherme!\n",
            "Olá, Ana!\n",
            "Olá, José!\n"
          ]
        }
      ]
    },
    {
      "cell_type": "code",
      "source": [
        "def saudar(nome: str) -> str:\n",
        "  # retorna a mensagem Olá seguido do nome que recebemos como argumento\n",
        "  return f'Olá, {nome}!'\n",
        "\n",
        "mensagem_1 = saudar('Guilherme')\n",
        "mensagem_2 = saudar('Ana')\n",
        "\n",
        "print(mensagem_1)\n",
        "print(mensagem_2)"
      ],
      "metadata": {
        "colab": {
          "base_uri": "https://localhost:8080/"
        },
        "id": "j_fSznNGb1aL",
        "outputId": "5e9a17d2-2ce5-42eb-9921-3e77eee0b9c0"
      },
      "execution_count": 25,
      "outputs": [
        {
          "output_type": "stream",
          "name": "stdout",
          "text": [
            "Olá, Guilherme!\n",
            "Olá, Ana!\n"
          ]
        }
      ]
    },
    {
      "cell_type": "code",
      "source": [
        "1+2"
      ],
      "metadata": {
        "colab": {
          "base_uri": "https://localhost:8080/"
        },
        "id": "D4tKb78sdc47",
        "outputId": "e0e24126-19d9-42b5-d963-49cc0edcc48d"
      },
      "execution_count": 26,
      "outputs": [
        {
          "output_type": "execute_result",
          "data": {
            "text/plain": [
              "3"
            ]
          },
          "metadata": {},
          "execution_count": 26
        }
      ]
    },
    {
      "cell_type": "code",
      "source": [
        "50/4"
      ],
      "metadata": {
        "colab": {
          "base_uri": "https://localhost:8080/"
        },
        "id": "OM9VA_YfeNRQ",
        "outputId": "a7d9c48b-0b52-452e-8bd9-8e1c1a9cb3e2"
      },
      "execution_count": 27,
      "outputs": [
        {
          "output_type": "execute_result",
          "data": {
            "text/plain": [
              "12.5"
            ]
          },
          "metadata": {},
          "execution_count": 27
        }
      ]
    },
    {
      "cell_type": "code",
      "source": [
        "5*5"
      ],
      "metadata": {
        "colab": {
          "base_uri": "https://localhost:8080/"
        },
        "id": "aRxWmv9kePRO",
        "outputId": "7c795834-ec1b-40be-bfaf-077006a187b1"
      },
      "execution_count": 28,
      "outputs": [
        {
          "output_type": "execute_result",
          "data": {
            "text/plain": [
              "25"
            ]
          },
          "metadata": {},
          "execution_count": 28
        }
      ]
    },
    {
      "cell_type": "code",
      "source": [
        "from math import sqrt\n",
        "\n",
        "sqrt(16)"
      ],
      "metadata": {
        "colab": {
          "base_uri": "https://localhost:8080/"
        },
        "id": "9_ZLswpleRP_",
        "outputId": "7ac24b3d-a542-4d02-e30d-098ad0575a09"
      },
      "execution_count": 29,
      "outputs": [
        {
          "output_type": "execute_result",
          "data": {
            "text/plain": [
              "4.0"
            ]
          },
          "metadata": {},
          "execution_count": 29
        }
      ]
    },
    {
      "cell_type": "code",
      "source": [],
      "metadata": {
        "id": "wFMM6NI9eiaw"
      },
      "execution_count": null,
      "outputs": []
    }
  ]
}